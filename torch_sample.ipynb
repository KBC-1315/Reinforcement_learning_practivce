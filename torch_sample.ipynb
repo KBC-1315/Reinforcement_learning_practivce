{
 "cells": [
  {
   "cell_type": "code",
   "execution_count": 4,
   "id": "ed340747-e194-4542-aae4-7b5eb23c4cc7",
   "metadata": {},
   "outputs": [],
   "source": [
    "from sklearn.datasets import fetch_openml\n",
    "\n",
    "# MNIST 데이터 다운로드\n",
    "mnist = fetch_openml(\"mnist_784\", version=1, data_home=\".\")\n"
   ]
  },
  {
   "cell_type": "code",
   "execution_count": 18,
   "id": "8218d03c-65de-45e8-bfaa-8036a91f9257",
   "metadata": {},
   "outputs": [
    {
     "data": {
      "image/png": "[encoded data removed]",
      "text/plain": [
       "<Figure size 640x480 with 1 Axes>"
      ]
     },
     "metadata": {},
     "output_type": "display_data"
    },
    {
     "name": "stdout",
     "output_type": "stream",
     "text": [
      "이 이미지의 데이터의 레이블은 5이다\n"
     ]
    }
   ],
   "source": [
    "# 데이터 전처리\n",
    "X = mnist.data / 255.0  # 0 ~ 255 값을 [0,1] 구간으로 정규화\n",
    "y = mnist.target.astype(int)  # 레이블 데이터를 정수형으로 변환\n",
    "\n",
    "# 첫 번째 데이터 시각화\n",
    "import matplotlib.pyplot as plt\n",
    "%matplotlib inline\n",
    "\n",
    "# iloc를 사용하여 첫 번째 행 데이터에 접근\n",
    "plt.imshow(X.iloc[0].values.reshape(28, 28), cmap=\"gray\")\n",
    "plt.axis('off')  # 축을 숨기기\n",
    "plt.show()  # 플롯 표시\n",
    "\n",
    "print(\"이 이미지의 데이터의 레이블은 {}이다\".format(y.iloc[0]))"
   ]
  },
  {
   "cell_type": "code",
   "execution_count": 28,
   "id": "e70f4f96-10cb-4654-9b05-aab5abfed1c2",
   "metadata": {},
   "outputs": [
    {
     "name": "stdout",
     "output_type": "stream",
     "text": [
      "X_batch shape: torch.Size([64, 784])\n",
      "y_batch shape: torch.Size([64])\n"
     ]
    }
   ],
   "source": [
    "import torch\n",
    "from torch.utils.data import TensorDataset, DataLoader\n",
    "from sklearn.model_selection import train_test_split\n",
    "\n",
    "# 2.1 스플릿\n",
    "X_train, X_test, y_train, y_test = train_test_split(X, y, test_size=1/7, random_state=0)\n",
    "\n",
    "# 2.2 데이터를 파이토치 텐서로 변환\n",
    "X_train = torch.tensor(X_train.values, dtype=torch.float32)  # Pandas DataFrame에서 Tensor로 변환\n",
    "X_test = torch.tensor(X_test.values, dtype=torch.float32)\n",
    "y_train = torch.tensor(y_train.values, dtype=torch.long)  # LongTensor로 변환\n",
    "y_test = torch.tensor(y_test.values, dtype=torch.long)\n",
    "\n",
    "# 2.3 데이터와 라벨을 하나로 묶어 DataSet으로 만듬\n",
    "ds_train = TensorDataset(X_train, y_train)\n",
    "ds_test = TensorDataset(X_test, y_test)\n",
    "\n",
    "# 2.4 미니배치 크기를 지정해 DataLoader 객체로 변환\n",
    "loader_train = DataLoader(ds_train, batch_size=64, shuffle=True)\n",
    "loader_test = DataLoader(ds_test, batch_size=64, shuffle=False)\n",
    "\n",
    "# 데이터 확인 (첫 번째 배치)\n",
    "X_batch, y_batch = next(iter(loader_train))\n",
    "print(\"X_batch shape:\", X_batch.shape)\n",
    "print(\"y_batch shape:\", y_batch.shape)"
   ]
  },
  {
   "cell_type": "code",
   "execution_count": 29,
   "id": "c3091ffc-7c2a-4a6a-ae93-b4c13e758bba",
   "metadata": {},
   "outputs": [
    {
     "name": "stdout",
     "output_type": "stream",
     "text": [
      "Sequential(\n",
      "  (fc1): Linear(in_features=784, out_features=100, bias=True)\n",
      "  (relu1): ReLU()\n",
      "  (fc2): Linear(in_features=100, out_features=100, bias=True)\n",
      "  (relu2): ReLU()\n",
      "  (fc3): Linear(in_features=100, out_features=10, bias=True)\n",
      ")\n"
     ]
    }
   ],
   "source": [
    "# 3. 신경망 구성 (케라스 스타일)\n",
    "from torch import nn\n",
    "\n",
    "model = nn.Sequential()\n",
    "model.add_module('fc1', nn.Linear(28*28*1, 100))\n",
    "model.add_module('relu1', nn.ReLU())\n",
    "model.add_module('fc2', nn.Linear(100, 100))\n",
    "model.add_module('relu2', nn.ReLU())\n",
    "model.add_module('fc3', nn.Linear(100, 10))\n",
    "\n",
    "print(model)"
   ]
  },
  {
   "cell_type": "code",
   "execution_count": 30,
   "id": "51f5523a-aab5-43b9-9a7b-82823a2ae9a5",
   "metadata": {},
   "outputs": [],
   "source": [
    "# 4. 오차함수 및 최적화 기법 설정\n",
    "from torch import optim\n",
    "\n",
    "# 오차함수 선택\n",
    "loss_fn = nn.CrossEntropyLoss()\n",
    "# criterion을 변수명으로 사용하는 경우가 많음\n",
    "\n",
    "# 가중치를 학습하기 위한 최적화 기법 선택\n",
    "optimizer = optim.Adam(model.parameters(), lr=0.01)"
   ]
  },
  {
   "cell_type": "code",
   "execution_count": 37,
   "id": "8b677b6b-79fa-4ae6-b4e3-2f1ebd71b466",
   "metadata": {},
   "outputs": [],
   "source": [
    "# 5. 학습 및 추론 설정\n",
    "# 5-1. 학습 중 1 에포크에서 수행할 일을 함수로 정의\n",
    "# Pytorch에서는 Chainer의 training.Trainer()에 해당하는 것이 없음\n",
    "\n",
    "def train(epoch):\n",
    "    model.train() # 신경망을 학습 모드로 전환\n",
    "\n",
    "    # 데이터로더에서 미니배치를 하나씩 꺼내 학습을 수행\n",
    "    for data, target in loader_train :\n",
    "        optimizer.zero_grad() # 경사를 0으로 초기화\n",
    "        outputs = model(data) # 데이터를 입력하고 출력을 계산\n",
    "        loss = loss_fn(outputs, target) # 출력과 훈련 데이터 정답 간의 오차를 계산\n",
    "        loss.backward() # 오차를 역전파 계산\n",
    "        optimizer.step() # 역전파 계산한 값으로 가중치를 수정\n",
    "    print(\"epoch{} : 완료\\n\".format(epoch))"
   ]
  },
  {
   "cell_type": "code",
   "execution_count": 38,
   "id": "87b3a91e-bc1b-4a3a-8be2-8bac2aa6af75",
   "metadata": {},
   "outputs": [],
   "source": [
    "# 5-2. 추론 1 에포크에서 할 일을 함수로 정의\n",
    "# Pytorch에서는 Chainer의 trainer.extend(extensions.Evaluator())에 해당하는 것이 없음\n",
    "\n",
    "def test():\n",
    "    model.eval()  # 신경망을 추론 모드로 전환\n",
    "    correct = 0\n",
    "\n",
    "    # 데이터로더에서 미니배치를 하나씩 꺼내 추론을 수행\n",
    "    with torch.no_grad():  # 추론 과정에서는 미분이 필요 없음\n",
    "        for data, targets in loader_test:\n",
    "            outputs = model(data)  # 데이터를 입력하고 출력을 계산\n",
    "\n",
    "            # 추론 계산\n",
    "            _, predicted = torch.max(outputs.data, 1)  # 확률이 가장 높은 레이블이 무엇인지 계산\n",
    "            correct += predicted.eq(targets.view_as(predicted)).sum().item()\n",
    "            # 정답과 일치한 경우 정답 카운트를 증가\n",
    "\n",
    "    # 정확도 출력\n",
    "    data_num = len(loader_test.dataset)  # 데이터 총 건수\n",
    "    print(\"\\n테스트 데이터에서 예측 정확도 : {}/{} ({:.0f}%)\\n\".format(\n",
    "        correct, data_num, 100. * correct / data_num))\n"
   ]
  },
  {
   "cell_type": "code",
   "execution_count": 39,
   "id": "23abf69a-4f2c-4048-9e70-5206a268b636",
   "metadata": {},
   "outputs": [
    {
     "name": "stdout",
     "output_type": "stream",
     "text": [
      "\n",
      "테스트 데이터에서 예측 정확도 : 1071/10000 (11%)\n",
      "\n"
     ]
    }
   ],
   "source": [
    "# 학습 전 상태에서 테스트 데이터로 정확도 측정\n",
    "test()"
   ]
  },
  {
   "cell_type": "code",
   "execution_count": 1,
   "id": "70b63228-40bd-4fbc-b966-b2d1f63f209b",
   "metadata": {},
   "outputs": [
    {
     "ename": "NameError",
     "evalue": "name 'train' is not defined",
     "output_type": "error",
     "traceback": [
      "\u001b[1;31m---------------------------------------------------------------------------\u001b[0m",
      "\u001b[1;31mNameError\u001b[0m                                 Traceback (most recent call last)",
      "Cell \u001b[1;32mIn[1], line 3\u001b[0m\n\u001b[0;32m      1\u001b[0m \u001b[38;5;66;03m# 6. 학습 및 추론 수행\u001b[39;00m\n\u001b[0;32m      2\u001b[0m \u001b[38;5;28;01mfor\u001b[39;00m epoch \u001b[38;5;129;01min\u001b[39;00m \u001b[38;5;28mrange\u001b[39m(\u001b[38;5;241m3\u001b[39m) :\n\u001b[1;32m----> 3\u001b[0m     \u001b[43mtrain\u001b[49m(epoch)\n\u001b[0;32m      5\u001b[0m test()\n",
      "\u001b[1;31mNameError\u001b[0m: name 'train' is not defined"
     ]
    }
   ],
   "source": [
    "# 6. 학습 및 추론 수행\n",
    "for epoch in range(3) :\n",
    "    train(epoch)\n",
    "\n",
    "test()"
   ]
  },
  {
   "cell_type": "code",
   "execution_count": 47,
   "id": "ad831f09-6f38-441e-8b4c-e321c759be15",
   "metadata": {},
   "outputs": [
    {
     "name": "stdout",
     "output_type": "stream",
     "text": [
      "예측 결과 : 4\n"
     ]
    },
    {
     "data": {
      "image/png": "[encoded data removed]",
      "text/plain": [
       "<Figure size 640x480 with 1 Axes>"
      ]
     },
     "metadata": {},
     "output_type": "display_data"
    },
    {
     "name": "stdout",
     "output_type": "stream",
     "text": [
      "이 이미지 데이터 정답 레이블 4입니다\n"
     ]
    }
   ],
   "source": [
    "# 2024번째 데이터를 예로 추론 수행\n",
    "\n",
    "index = 2024\n",
    "\n",
    "model.eval() # 신경망을 추론 모드로 전환\n",
    "data = X_test[index]\n",
    "output = model(data) # 데이터를 입력하고 출력을 계산\n",
    "_, predicted = torch.max(output.data, 0) # 확률이 가장 높은 레이블이 무엇인지 계산\n",
    "\n",
    "print(\"예측 결과 : {}\".format(predicted))\n",
    "\n",
    "X_test_show = (X_test[index]).numpy()\n",
    "plt.imshow(X_test_show.reshape(28, 28), cmap = 'gray')\n",
    "plt.show()\n",
    "print(\"이 이미지 데이터 정답 레이블 {:.0f}입니다\".format(y_test[index]))"
   ]
  },
  {
   "cell_type": "code",
   "execution_count": 48,
   "id": "9693fa0c-9e96-404e-86cf-f5b98b13f919",
   "metadata": {},
   "outputs": [
    {
     "name": "stdout",
     "output_type": "stream",
     "text": [
      "Net(\n",
      "  (fc1): Linear(in_features=784, out_features=100, bias=True)\n",
      "  (fc2): Linear(in_features=100, out_features=100, bias=True)\n",
      "  (fc3): Linear(in_features=100, out_features=10, bias=True)\n",
      ")\n"
     ]
    }
   ],
   "source": [
    "# 3. 신경망 구성\n",
    "# 신경망 구성(체이너 스타일)\n",
    "import torch.nn as nn\n",
    "import torch.nn.functional as F\n",
    "\n",
    "class Net(nn.Module):\n",
    "    def __init__(self, n_in, n_mid, n_out):\n",
    "        super(Net, self).__init__()\n",
    "        self.fc1 = nn.Linear(n_in, n_mid) #체어나와 달리 None을 받을 수는 없음\n",
    "        self.fc2 = nn.Linear(n_mid, n_mid)\n",
    "        self.fc3 = nn.Linear(n_mid, n_out)\n",
    "\n",
    "    def forward(self, x):\n",
    "        # 입력 x에 따라 forward 계산 과정이 변화함\n",
    "        h1 = F.relu(self.fc1(x))\n",
    "        h2 = F.relu(self.fc2(h1))\n",
    "        output = self.fc3(h2)\n",
    "        return output\n",
    "\n",
    "model = Net(n_in=28*28*1, n_mid = 100, n_out = 10) # 신경망 객체 생성\n",
    "print(model)"
   ]
  },
  {
   "cell_type": "code",
   "execution_count": null,
   "id": "ba3ac537-d039-416a-825e-0ac573e78118",
   "metadata": {},
   "outputs": [],
   "source": []
  }
 ],
 "metadata": {
  "kernelspec": {
   "display_name": "Python 3 (ipykernel)",
   "language": "python",
   "name": "python3"
  },
  "language_info": {
   "codemirror_mode": {
    "name": "ipython",
    "version": 3
   },
   "file_extension": ".py",
   "mimetype": "text/x-python",
   "name": "python",
   "nbconvert_exporter": "python",
   "pygments_lexer": "ipython3",
   "version": "3.10.15"
  }
 },
 "nbformat": 4,
 "nbformat_minor": 5
}
