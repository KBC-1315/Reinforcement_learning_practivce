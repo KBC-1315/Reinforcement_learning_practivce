{
 "cells": [
  {
   "cell_type": "code",
   "execution_count": 1,
   "metadata": {},
   "outputs": [
    {
     "name": "stdout",
     "output_type": "stream",
     "text": [
      "Your tax bill is: $8316000.0\n"
     ]
    }
   ],
   "source": [
    "def get_yearly_revenue(monthly_revenue):\n",
    "    return monthly_revenue * 12\n",
    "\n",
    "def get_yearly_expenses(montly_expenses):\n",
    "    return monthly_expenses * 12\n",
    "\n",
    "def get_tax_amount(profit):\n",
    "    if profit > 100000 :\n",
    "        return profit * 0.25\n",
    "    else :\n",
    "        return profit * 0.15\n",
    "    \n",
    "def apply_tax_credits(tax_amount, tax_credits):\n",
    "    return tax_amount * tax_credits\n",
    "\n",
    "monthly_revenue = 5500000\n",
    "monthly_expenses = 2700000\n",
    "tax_credits = 0.01\n",
    "\n",
    "yearly_revenue = get_yearly_revenue(monthly_revenue)\n",
    "yearly_expenses = get_yearly_expenses(monthly_expenses)\n",
    "\n",
    "profit = yearly_revenue - yearly_expenses\n",
    "\n",
    "tax_amount = get_tax_amount(profit)\n",
    "\n",
    "final_tax_amount = tax_amount - apply_tax_credits(tax_amount, tax_credits)\n",
    "\n",
    "print(f\"Your tax bill is: ${final_tax_amount}\")"
   ]
  },
  {
   "cell_type": "code",
   "execution_count": null,
   "metadata": {},
   "outputs": [],
   "source": []
  }
 ],
 "metadata": {
  "kernelspec": {
   "display_name": "Python 3",
   "language": "python",
   "name": "python3"
  },
  "language_info": {
   "codemirror_mode": {
    "name": "ipython",
    "version": 3
   },
   "file_extension": ".py",
   "mimetype": "text/x-python",
   "name": "python",
   "nbconvert_exporter": "python",
   "pygments_lexer": "ipython3",
   "version": "3.11.9"
  }
 },
 "nbformat": 4,
 "nbformat_minor": 2
}
